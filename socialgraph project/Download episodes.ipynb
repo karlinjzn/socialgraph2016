{
 "cells": [
  {
   "cell_type": "code",
   "execution_count": 18,
   "metadata": {
    "collapsed": true
   },
   "outputs": [],
   "source": [
    "%matplotlib inline\n",
    "import re\n",
    "import io\n",
    "import os\n",
    "import urllib2\n",
    "import networkx as nx\n",
    "import community\n",
    "import json\n",
    "import glob\n",
    "import pickle\n",
    "from collections import Counter\n",
    "import numpy as np\n",
    "import operator\n",
    "import matplotlib.pyplot as plt\n",
    "from matplotlib import pyplot\n",
    "import math"
   ]
  },
  {
   "cell_type": "code",
   "execution_count": 2,
   "metadata": {
    "collapsed": false
   },
   "outputs": [],
   "source": [
    "#Get namelist and idlist\n",
    "base=\"http://gameofthrones.wikia.com/api/v1/Articles/List?category=Episodes&\"\n",
    "limit=\"limit=1014\"\n",
    "listquery=\"%s%s\" %(base,limit)\n",
    "textloadlist= json.loads(urllib2.urlopen(listquery).read())\n",
    "namelist=[]\n",
    "idlist=[]\n",
    "urllist=[]\n",
    "for i in range(len(textloadlist['items'])):\n",
    "    namelist.append(textloadlist['items'][i]['title'])\n",
    "    idlist.append(textloadlist['items'][i]['id'])\n",
    "    urllist.append(textloadlist['items'][i]['url'][6:])"
   ]
  },
  {
   "cell_type": "code",
   "execution_count": 3,
   "metadata": {
    "collapsed": false
   },
   "outputs": [
    {
     "data": {
      "text/plain": [
       "93"
      ]
     },
     "execution_count": 3,
     "metadata": {},
     "output_type": "execute_result"
    }
   ],
   "source": [
    "len(idlist)"
   ]
  },
  {
   "cell_type": "code",
   "execution_count": 4,
   "metadata": {
    "collapsed": false,
    "scrolled": true
   },
   "outputs": [
    {
     "data": {
      "text/plain": [
       "[u'A Golden Crown recap',\n",
       " u'A Man Without Honor recap',\n",
       " u'A Nest of Vipers',\n",
       " u'And Now His Watch is Ended',\n",
       " u'Baelor',\n",
       " u'Battle of the Bastards (episode)',\n",
       " u'The Bear and the Maiden Fair (episode)',\n",
       " u'Blackwater',\n",
       " u'Blackwater recap',\n",
       " u'Blood of My Blood']"
      ]
     },
     "execution_count": 4,
     "metadata": {},
     "output_type": "execute_result"
    }
   ],
   "source": [
    "namelist[0:10]"
   ]
  },
  {
   "cell_type": "code",
   "execution_count": 16,
   "metadata": {
    "collapsed": false
   },
   "outputs": [
    {
     "name": "stdout",
     "output_type": "stream",
     "text": [
      "done\n"
     ]
    }
   ],
   "source": [
    "# Get the wiki page for each episode\n",
    "\n",
    "filedir=glob.glob('Episodes_api/*')\n",
    "filelist=[]\n",
    "for name in filedir:\n",
    "    filelist.append(name[13:-4].lower())\n",
    "\n",
    "for i in range(len(namelist)):\n",
    "    if namelist[i].lower() in filelist:\n",
    "        continue\n",
    "    query=\"http://gameofthrones.wikia.com/api/v1/Articles/AsJson?id=%s\" %idlist[i]\n",
    "    query=query.encode('utf-8')\n",
    "    response= urllib2.urlopen(query)\n",
    "    source= response.read()\n",
    "    textload=json.loads(source)\n",
    "    \n",
    "    #Write the content of the article\n",
    "    filename=\"%s.txt\" % namelist[i]\n",
    "    filename=filename.replace(\"/\", \"_\")\n",
    "    f = io.open(filename, 'w+',encoding=\"utf-8\") \n",
    "    f.write(unicode(textload['content']))\n",
    "    f.close()\n",
    "    destname=\"Episodes_api/%s\" % filename\n",
    "    os.rename(filename, destname) \n",
    "print \"done\""
   ]
  },
  {
   "cell_type": "code",
   "execution_count": 17,
   "metadata": {
    "collapsed": false,
    "scrolled": true
   },
   "outputs": [
    {
     "data": {
      "text/plain": [
       "[u'A Golden Crown recap',\n",
       " u'A Man Without Honor recap',\n",
       " u'A Nest of Vipers',\n",
       " u'And Now His Watch is Ended',\n",
       " u'Baelor',\n",
       " u'Battle of the Bastards (episode)',\n",
       " u'The Bear and the Maiden Fair (episode)',\n",
       " u'Blackwater',\n",
       " u'Blackwater recap',\n",
       " u'Blood of My Blood',\n",
       " u'Book of the Stranger',\n",
       " u'Breaker of Chains',\n",
       " u'The Broken Man',\n",
       " u'The Children',\n",
       " u'The Climb',\n",
       " u'Cripples, Bastards and Broken Things',\n",
       " u'The Dance of Dragons',\n",
       " u'Dark Wings, Dark Words',\n",
       " u'The Door',\n",
       " u'Fire and Blood',\n",
       " u'First of His Name',\n",
       " u'Garden of Bones',\n",
       " u'Garden of Bones recap',\n",
       " u'The Ghost of Harrenhal',\n",
       " u'The Gift (episode)',\n",
       " u'A Golden Crown',\n",
       " u'Hardhome (episode)',\n",
       " u'High Sparrow (episode)',\n",
       " u'Home',\n",
       " u'The House of Black and White',\n",
       " u'Iron From Ice',\n",
       " u'Kill the Boy',\n",
       " u'The Kingsroad',\n",
       " u'Kissed by Fire',\n",
       " u'The Laws of Gods and Men',\n",
       " u'The Lion and the Rose',\n",
       " u'Lord Snow',\n",
       " u'A Man Without Honor',\n",
       " u'Mhysa',\n",
       " u'Mockingbird',\n",
       " u\"Mother's Mercy\",\n",
       " u'The Mountain and the Viper',\n",
       " u'The Night Lands',\n",
       " u'No One',\n",
       " u'The North Remembers',\n",
       " u'Oathbreaker',\n",
       " u'Oathkeeper',\n",
       " u'The Old Gods and the New',\n",
       " u'Pilot episode',\n",
       " u'The Pointy End',\n",
       " u'The Prince of Winterfell',\n",
       " u'The Rains of Castamere (episode)',\n",
       " u'The Red Woman',\n",
       " u'Second Sons (episode)',\n",
       " u'Sons of the Harpy (episode)',\n",
       " u'Sons of Winter',\n",
       " u'The Ghost of Harrenhal recap',\n",
       " u'The Ice Dragon',\n",
       " u'The Lost Lords',\n",
       " u'The Night Lands recap',\n",
       " u'The Old Gods and the New recap',\n",
       " u'The Prince of Winterfell recap',\n",
       " u'The Sword in the Darkness',\n",
       " u'The Winds of Winter',\n",
       " u'Two Swords',\n",
       " u'Unbowed, Unbent, Unbroken',\n",
       " u'Valar Dohaeris',\n",
       " u'Valar Dohaeris recap',\n",
       " u'Valar Morghulis',\n",
       " u'Valar Morghulis recap',\n",
       " u'Walk of Punishment',\n",
       " u'The Wars to Come',\n",
       " u'The Watchers on the Wall',\n",
       " u'What is Dead May Never Die',\n",
       " u'What is Dead May Never Die recap',\n",
       " u'Winter is Coming',\n",
       " u'The Wolf and the Lion',\n",
       " u'You Win or You Die',\n",
       " u'A Golden Crown',\n",
       " u'Appearances',\n",
       " u'Cripples, Bastards and Broken Things',\n",
       " u'Histories & Lore',\n",
       " u'Lord Snow',\n",
       " u'Recaps',\n",
       " u'Season 1 Episodes',\n",
       " u'Season 2 Episodes',\n",
       " u'Season 3 Episodes',\n",
       " u'Season 4 Episodes',\n",
       " u'Season 5 episodes',\n",
       " u'Season 5 Episodes',\n",
       " u'Season 6 Episodes',\n",
       " u'Valar Dohaeris',\n",
       " u'Winter is Coming']"
      ]
     },
     "execution_count": 17,
     "metadata": {},
     "output_type": "execute_result"
    }
   ],
   "source": [
    "namelist"
   ]
  },
  {
   "cell_type": "code",
   "execution_count": null,
   "metadata": {
    "collapsed": true
   },
   "outputs": [],
   "source": []
  }
 ],
 "metadata": {
  "kernelspec": {
   "display_name": "Python [Root]",
   "language": "python",
   "name": "Python [Root]"
  },
  "language_info": {
   "codemirror_mode": {
    "name": "ipython",
    "version": 2
   },
   "file_extension": ".py",
   "mimetype": "text/x-python",
   "name": "python",
   "nbconvert_exporter": "python",
   "pygments_lexer": "ipython2",
   "version": "2.7.12"
  }
 },
 "nbformat": 4,
 "nbformat_minor": 0
}
